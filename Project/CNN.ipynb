{
  "cells": [
    {
      "cell_type": "code",
      "execution_count": 1,
      "metadata": {
        "id": "9zI0ezt-rf78"
      },
      "outputs": [],
      "source": [
        "import torch\n",
        "import torch.nn as nn\n",
        "import torch.optim as optim\n",
        "from torch.utils.data import DataLoader\n",
        "from torchvision import datasets, transforms\n",
        "import matplotlib.pyplot as plt\n",
        "from tqdm import tqdm\n",
        "from PIL import Image\n",
        "import os"
      ]
    },
    {
      "cell_type": "code",
      "execution_count": 2,
      "metadata": {
        "colab": {
          "base_uri": "https://localhost:8080/"
        },
        "id": "yrl6A3HUtSRa",
        "outputId": "dd07f61b-d5ce-4886-8ae0-f7dbf6475ad4"
      },
      "outputs": [
        {
          "output_type": "stream",
          "name": "stdout",
          "text": [
            "Mounted at /content/drive\n"
          ]
        }
      ],
      "source": [
        "from google.colab import drive\n",
        "drive.mount('/content/drive')"
      ]
    },
    {
      "cell_type": "code",
      "execution_count": null,
      "metadata": {
        "id": "iu2n2JMdTrKF"
      },
      "outputs": [],
      "source": []
    },
    {
      "cell_type": "code",
      "execution_count": 3,
      "metadata": {
        "id": "4bM2UdL2s6rl"
      },
      "outputs": [],
      "source": [
        "IMG_SIZE = 64\n",
        "BATCH_SIZE = 64\n",
        "EPOCHS = 100\n",
        "LR = 0.001\n",
        "\n",
        "\n",
        "train_transform = transforms.Compose([\n",
        "    transforms.Grayscale(num_output_channels=1),\n",
        "    transforms.RandomResizedCrop(IMG_SIZE, scale=(0.8, 1.0)),\n",
        "    transforms.RandomHorizontalFlip(),\n",
        "    transforms.ColorJitter(brightness=0.2, contrast=0.2),\n",
        "    transforms.ToTensor(),\n",
        "    transforms.Normalize([0.5], [0.5])\n",
        "])\n",
        "\n",
        "val_transform = transforms.Compose([\n",
        "    transforms.Grayscale(num_output_channels=1),\n",
        "    transforms.Resize((IMG_SIZE, IMG_SIZE)),\n",
        "    transforms.ToTensor(),\n",
        "    transforms.Normalize([0.5], [0.5])\n",
        "])\n"
      ]
    },
    {
      "cell_type": "code",
      "execution_count": 4,
      "metadata": {
        "colab": {
          "base_uri": "https://localhost:8080/"
        },
        "id": "cR-c3OQltCse",
        "outputId": "513348f9-5223-4c0e-e78f-87f5b271575d"
      },
      "outputs": [
        {
          "output_type": "stream",
          "name": "stdout",
          "text": [
            "Samples per class: [2150 3475]\n",
            "Class weights: [0.00046512 0.00028777]\n",
            "Classes: ['FAKE', 'REAL']\n"
          ]
        }
      ],
      "source": [
        "train_dir = \"/content/drive/MyDrive/new_dataset/train\"\n",
        "val_dir   = \"/content/drive/MyDrive/new_dataset/val\"\n",
        "test_dir  = \"/content/drive/MyDrive/new_dataset/test\"\n",
        "\n",
        "train_dataset = datasets.ImageFolder(root=train_dir, transform=train_transform)\n",
        "val_dataset = datasets.ImageFolder(root=val_dir, transform=val_transform)\n",
        "\n",
        "#train_loader = DataLoader(train_dataset, batch_size=BATCH_SIZE, shuffle=True)\n",
        "#val_loader = DataLoader(val_dataset, batch_size=BATCH_SIZE, shuffle=False)\n",
        "\n",
        "from torch.utils.data import DataLoader, WeightedRandomSampler\n",
        "import numpy as np\n",
        "\n",
        "targets = [sample[1] for sample in train_dataset.samples]  # class indices\n",
        "class_sample_counts = np.bincount(targets)\n",
        "print(\"Samples per class:\", class_sample_counts)\n",
        "\n",
        "\n",
        "# Compute weights: inverse of class frequency\n",
        "class_weights = 1.0 / class_sample_counts\n",
        "print(\"Class weights:\", class_weights)\n",
        "\n",
        "# Assign weight for each sample in the dataset\n",
        "sample_weights = [class_weights[t] for t in targets]\n",
        "\n",
        "# Create sampler\n",
        "sampler = WeightedRandomSampler(\n",
        "    weights=sample_weights,\n",
        "    num_samples=len(sample_weights),  # draw same number as dataset size\n",
        "    replacement=True\n",
        ")\n",
        "\n",
        "# create DataLoader with sampler instead of shuffle\n",
        "train_loader = DataLoader(\n",
        "    train_dataset,\n",
        "    batch_size=BATCH_SIZE,\n",
        "    sampler=sampler\n",
        ")\n",
        "\n",
        "val_loader = DataLoader(\n",
        "    val_dataset,\n",
        "    batch_size=BATCH_SIZE,\n",
        "    shuffle=False\n",
        ")\n",
        "\n",
        "\n",
        "class_names = train_dataset.classes\n",
        "print(\"Classes:\", class_names)"
      ]
    },
    {
      "cell_type": "code",
      "execution_count": 5,
      "metadata": {
        "colab": {
          "base_uri": "https://localhost:8080/",
          "height": 1000
        },
        "id": "QIOtp63rtGYV",
        "outputId": "5c61e51c-5e04-4b88-c37e-5acef9ac3e99"
      },
      "outputs": [
        {
          "output_type": "stream",
          "name": "stderr",
          "text": [
            "Epoch 1/100: 100%|██████████| 88/88 [14:17<00:00,  9.74s/it]\n"
          ]
        },
        {
          "output_type": "stream",
          "name": "stdout",
          "text": [
            "Epoch 1: Train Loss=0.6821, Val Loss=0.6133, Val Acc=70.17%\n"
          ]
        },
        {
          "output_type": "stream",
          "name": "stderr",
          "text": [
            "Epoch 2/100: 100%|██████████| 88/88 [06:02<00:00,  4.12s/it]\n"
          ]
        },
        {
          "output_type": "stream",
          "name": "stdout",
          "text": [
            "Epoch 2: Train Loss=0.6371, Val Loss=0.5186, Val Acc=72.33%\n"
          ]
        },
        {
          "output_type": "stream",
          "name": "stderr",
          "text": [
            "Epoch 3/100: 100%|██████████| 88/88 [02:55<00:00,  1.99s/it]\n"
          ]
        },
        {
          "output_type": "stream",
          "name": "stdout",
          "text": [
            "Epoch 3: Train Loss=0.5282, Val Loss=0.1690, Val Acc=94.67%\n"
          ]
        },
        {
          "output_type": "stream",
          "name": "stderr",
          "text": [
            "Epoch 4/100: 100%|██████████| 88/88 [01:31<00:00,  1.04s/it]\n"
          ]
        },
        {
          "output_type": "stream",
          "name": "stdout",
          "text": [
            "Epoch 4: Train Loss=0.2969, Val Loss=0.2496, Val Acc=89.83%\n"
          ]
        },
        {
          "output_type": "stream",
          "name": "stderr",
          "text": [
            "Epoch 5/100: 100%|██████████| 88/88 [00:43<00:00,  2.03it/s]\n"
          ]
        },
        {
          "output_type": "stream",
          "name": "stdout",
          "text": [
            "Epoch 5: Train Loss=0.1442, Val Loss=0.0310, Val Acc=99.33%\n"
          ]
        },
        {
          "output_type": "stream",
          "name": "stderr",
          "text": [
            "Epoch 6/100: 100%|██████████| 88/88 [00:29<00:00,  2.98it/s]\n"
          ]
        },
        {
          "output_type": "stream",
          "name": "stdout",
          "text": [
            "Epoch 6: Train Loss=0.0745, Val Loss=0.0019, Val Acc=100.00%\n"
          ]
        },
        {
          "output_type": "stream",
          "name": "stderr",
          "text": [
            "Epoch 7/100: 100%|██████████| 88/88 [00:22<00:00,  3.98it/s]\n"
          ]
        },
        {
          "output_type": "stream",
          "name": "stdout",
          "text": [
            "Epoch 7: Train Loss=0.0593, Val Loss=0.0024, Val Acc=99.83%\n"
          ]
        },
        {
          "output_type": "stream",
          "name": "stderr",
          "text": [
            "Epoch 8/100: 100%|██████████| 88/88 [00:16<00:00,  5.33it/s]\n"
          ]
        },
        {
          "output_type": "stream",
          "name": "stdout",
          "text": [
            "Epoch 8: Train Loss=0.0456, Val Loss=0.0041, Val Acc=100.00%\n"
          ]
        },
        {
          "output_type": "stream",
          "name": "stderr",
          "text": [
            "Epoch 9/100: 100%|██████████| 88/88 [00:16<00:00,  5.45it/s]\n"
          ]
        },
        {
          "output_type": "stream",
          "name": "stdout",
          "text": [
            "Epoch 9: Train Loss=0.0324, Val Loss=0.0005, Val Acc=100.00%\n"
          ]
        },
        {
          "output_type": "stream",
          "name": "stderr",
          "text": [
            "Epoch 10/100: 100%|██████████| 88/88 [00:15<00:00,  5.60it/s]\n"
          ]
        },
        {
          "output_type": "stream",
          "name": "stdout",
          "text": [
            "Epoch 10: Train Loss=0.0363, Val Loss=0.0050, Val Acc=99.83%\n"
          ]
        },
        {
          "output_type": "stream",
          "name": "stderr",
          "text": [
            "Epoch 11/100: 100%|██████████| 88/88 [00:15<00:00,  5.74it/s]\n"
          ]
        },
        {
          "output_type": "stream",
          "name": "stdout",
          "text": [
            "Epoch 11: Train Loss=0.0258, Val Loss=0.0009, Val Acc=100.00%\n"
          ]
        },
        {
          "output_type": "stream",
          "name": "stderr",
          "text": [
            "Epoch 12/100: 100%|██████████| 88/88 [00:15<00:00,  5.65it/s]\n"
          ]
        },
        {
          "output_type": "stream",
          "name": "stdout",
          "text": [
            "Epoch 12: Train Loss=0.0258, Val Loss=0.0031, Val Acc=99.83%\n"
          ]
        },
        {
          "output_type": "stream",
          "name": "stderr",
          "text": [
            "Epoch 13/100: 100%|██████████| 88/88 [00:15<00:00,  5.77it/s]\n"
          ]
        },
        {
          "output_type": "stream",
          "name": "stdout",
          "text": [
            "Epoch 13: Train Loss=0.0170, Val Loss=0.0022, Val Acc=99.83%\n"
          ]
        },
        {
          "output_type": "stream",
          "name": "stderr",
          "text": [
            "Epoch 14/100: 100%|██████████| 88/88 [00:15<00:00,  5.63it/s]\n"
          ]
        },
        {
          "output_type": "stream",
          "name": "stdout",
          "text": [
            "Epoch 14: Train Loss=0.0195, Val Loss=0.0013, Val Acc=99.83%\n"
          ]
        },
        {
          "output_type": "stream",
          "name": "stderr",
          "text": [
            "Epoch 15/100: 100%|██████████| 88/88 [00:14<00:00,  5.87it/s]\n"
          ]
        },
        {
          "output_type": "stream",
          "name": "stdout",
          "text": [
            "Epoch 15: Train Loss=0.0144, Val Loss=0.0051, Val Acc=99.83%\n"
          ]
        },
        {
          "output_type": "stream",
          "name": "stderr",
          "text": [
            "Epoch 16/100: 100%|██████████| 88/88 [00:15<00:00,  5.57it/s]\n"
          ]
        },
        {
          "output_type": "stream",
          "name": "stdout",
          "text": [
            "Epoch 16: Train Loss=0.0095, Val Loss=0.0025, Val Acc=99.83%\n"
          ]
        },
        {
          "output_type": "stream",
          "name": "stderr",
          "text": [
            "Epoch 17/100: 100%|██████████| 88/88 [00:15<00:00,  5.64it/s]\n"
          ]
        },
        {
          "output_type": "stream",
          "name": "stdout",
          "text": [
            "Epoch 17: Train Loss=0.0107, Val Loss=0.0057, Val Acc=99.83%\n"
          ]
        },
        {
          "output_type": "stream",
          "name": "stderr",
          "text": [
            "Epoch 18/100: 100%|██████████| 88/88 [00:15<00:00,  5.79it/s]\n"
          ]
        },
        {
          "output_type": "stream",
          "name": "stdout",
          "text": [
            "Epoch 18: Train Loss=0.0067, Val Loss=0.0004, Val Acc=100.00%\n"
          ]
        },
        {
          "output_type": "stream",
          "name": "stderr",
          "text": [
            "Epoch 19/100: 100%|██████████| 88/88 [00:15<00:00,  5.53it/s]\n"
          ]
        },
        {
          "output_type": "stream",
          "name": "stdout",
          "text": [
            "Epoch 19: Train Loss=0.0152, Val Loss=0.0002, Val Acc=100.00%\n"
          ]
        },
        {
          "output_type": "stream",
          "name": "stderr",
          "text": [
            "Epoch 20/100: 100%|██████████| 88/88 [00:15<00:00,  5.65it/s]\n"
          ]
        },
        {
          "output_type": "stream",
          "name": "stdout",
          "text": [
            "Epoch 20: Train Loss=0.0118, Val Loss=0.0001, Val Acc=100.00%\n"
          ]
        },
        {
          "output_type": "stream",
          "name": "stderr",
          "text": [
            "Epoch 21/100: 100%|██████████| 88/88 [00:15<00:00,  5.71it/s]\n"
          ]
        },
        {
          "output_type": "stream",
          "name": "stdout",
          "text": [
            "Epoch 21: Train Loss=0.0209, Val Loss=0.0004, Val Acc=100.00%\n"
          ]
        },
        {
          "output_type": "stream",
          "name": "stderr",
          "text": [
            "Epoch 22/100: 100%|██████████| 88/88 [00:16<00:00,  5.50it/s]\n"
          ]
        },
        {
          "output_type": "stream",
          "name": "stdout",
          "text": [
            "Epoch 22: Train Loss=0.0096, Val Loss=0.0035, Val Acc=99.83%\n"
          ]
        },
        {
          "output_type": "stream",
          "name": "stderr",
          "text": [
            "Epoch 23/100: 100%|██████████| 88/88 [00:15<00:00,  5.70it/s]\n"
          ]
        },
        {
          "output_type": "stream",
          "name": "stdout",
          "text": [
            "Epoch 23: Train Loss=0.0070, Val Loss=0.0028, Val Acc=99.83%\n"
          ]
        },
        {
          "output_type": "stream",
          "name": "stderr",
          "text": [
            "Epoch 24/100: 100%|██████████| 88/88 [00:15<00:00,  5.74it/s]\n"
          ]
        },
        {
          "output_type": "stream",
          "name": "stdout",
          "text": [
            "Epoch 24: Train Loss=0.0058, Val Loss=0.0003, Val Acc=100.00%\n"
          ]
        },
        {
          "output_type": "stream",
          "name": "stderr",
          "text": [
            "Epoch 25/100: 100%|██████████| 88/88 [00:15<00:00,  5.69it/s]\n"
          ]
        },
        {
          "output_type": "stream",
          "name": "stdout",
          "text": [
            "Epoch 25: Train Loss=0.0151, Val Loss=0.0057, Val Acc=99.83%\n"
          ]
        },
        {
          "output_type": "stream",
          "name": "stderr",
          "text": [
            "Epoch 26/100: 100%|██████████| 88/88 [00:15<00:00,  5.82it/s]\n"
          ]
        },
        {
          "output_type": "stream",
          "name": "stdout",
          "text": [
            "Epoch 26: Train Loss=0.0032, Val Loss=0.0037, Val Acc=99.83%\n"
          ]
        },
        {
          "output_type": "stream",
          "name": "stderr",
          "text": [
            "Epoch 27/100: 100%|██████████| 88/88 [00:15<00:00,  5.64it/s]\n"
          ]
        },
        {
          "output_type": "stream",
          "name": "stdout",
          "text": [
            "Epoch 27: Train Loss=0.0082, Val Loss=0.0043, Val Acc=99.83%\n"
          ]
        },
        {
          "output_type": "stream",
          "name": "stderr",
          "text": [
            "Epoch 28/100: 100%|██████████| 88/88 [00:15<00:00,  5.75it/s]\n"
          ]
        },
        {
          "output_type": "stream",
          "name": "stdout",
          "text": [
            "Epoch 28: Train Loss=0.0115, Val Loss=0.0008, Val Acc=100.00%\n"
          ]
        },
        {
          "output_type": "stream",
          "name": "stderr",
          "text": [
            "Epoch 29/100: 100%|██████████| 88/88 [00:15<00:00,  5.52it/s]\n"
          ]
        },
        {
          "output_type": "stream",
          "name": "stdout",
          "text": [
            "Epoch 29: Train Loss=0.0037, Val Loss=0.0031, Val Acc=99.83%\n"
          ]
        },
        {
          "output_type": "stream",
          "name": "stderr",
          "text": [
            "Epoch 30/100: 100%|██████████| 88/88 [00:15<00:00,  5.75it/s]\n"
          ]
        },
        {
          "output_type": "stream",
          "name": "stdout",
          "text": [
            "Epoch 30: Train Loss=0.0096, Val Loss=0.0061, Val Acc=99.83%\n"
          ]
        },
        {
          "output_type": "stream",
          "name": "stderr",
          "text": [
            "Epoch 31/100: 100%|██████████| 88/88 [00:15<00:00,  5.60it/s]\n"
          ]
        },
        {
          "output_type": "stream",
          "name": "stdout",
          "text": [
            "Epoch 31: Train Loss=0.0065, Val Loss=0.0067, Val Acc=99.83%\n"
          ]
        },
        {
          "output_type": "stream",
          "name": "stderr",
          "text": [
            "Epoch 32/100: 100%|██████████| 88/88 [00:15<00:00,  5.78it/s]\n"
          ]
        },
        {
          "output_type": "stream",
          "name": "stdout",
          "text": [
            "Epoch 32: Train Loss=0.0034, Val Loss=0.0037, Val Acc=99.83%\n"
          ]
        },
        {
          "output_type": "stream",
          "name": "stderr",
          "text": [
            "Epoch 33/100: 100%|██████████| 88/88 [00:15<00:00,  5.73it/s]\n"
          ]
        },
        {
          "output_type": "stream",
          "name": "stdout",
          "text": [
            "Epoch 33: Train Loss=0.0054, Val Loss=0.0066, Val Acc=99.83%\n"
          ]
        },
        {
          "output_type": "stream",
          "name": "stderr",
          "text": [
            "Epoch 34/100: 100%|██████████| 88/88 [00:15<00:00,  5.75it/s]\n"
          ]
        },
        {
          "output_type": "stream",
          "name": "stdout",
          "text": [
            "Epoch 34: Train Loss=0.0075, Val Loss=0.0004, Val Acc=100.00%\n"
          ]
        },
        {
          "output_type": "stream",
          "name": "stderr",
          "text": [
            "Epoch 35/100: 100%|██████████| 88/88 [00:16<00:00,  5.41it/s]\n"
          ]
        },
        {
          "output_type": "stream",
          "name": "stdout",
          "text": [
            "Epoch 35: Train Loss=0.0059, Val Loss=0.0006, Val Acc=100.00%\n"
          ]
        },
        {
          "output_type": "stream",
          "name": "stderr",
          "text": [
            "Epoch 36/100: 100%|██████████| 88/88 [00:15<00:00,  5.73it/s]\n"
          ]
        },
        {
          "output_type": "stream",
          "name": "stdout",
          "text": [
            "Epoch 36: Train Loss=0.0099, Val Loss=0.0017, Val Acc=99.83%\n"
          ]
        },
        {
          "output_type": "stream",
          "name": "stderr",
          "text": [
            "Epoch 37/100: 100%|██████████| 88/88 [00:15<00:00,  5.54it/s]\n"
          ]
        },
        {
          "output_type": "stream",
          "name": "stdout",
          "text": [
            "Epoch 37: Train Loss=0.0030, Val Loss=0.0028, Val Acc=99.83%\n"
          ]
        },
        {
          "output_type": "stream",
          "name": "stderr",
          "text": [
            "Epoch 38/100: 100%|██████████| 88/88 [00:15<00:00,  5.69it/s]\n"
          ]
        },
        {
          "output_type": "stream",
          "name": "stdout",
          "text": [
            "Epoch 38: Train Loss=0.0053, Val Loss=0.0003, Val Acc=100.00%\n"
          ]
        },
        {
          "output_type": "stream",
          "name": "stderr",
          "text": [
            "Epoch 39/100: 100%|██████████| 88/88 [00:15<00:00,  5.81it/s]\n"
          ]
        },
        {
          "output_type": "stream",
          "name": "stdout",
          "text": [
            "Epoch 39: Train Loss=0.0053, Val Loss=0.0051, Val Acc=99.83%\n"
          ]
        },
        {
          "output_type": "stream",
          "name": "stderr",
          "text": [
            "Epoch 40/100: 100%|██████████| 88/88 [00:15<00:00,  5.63it/s]\n"
          ]
        },
        {
          "output_type": "stream",
          "name": "stdout",
          "text": [
            "Epoch 40: Train Loss=0.0049, Val Loss=0.0039, Val Acc=99.83%\n"
          ]
        },
        {
          "output_type": "stream",
          "name": "stderr",
          "text": [
            "Epoch 41/100: 100%|██████████| 88/88 [00:15<00:00,  5.85it/s]\n"
          ]
        },
        {
          "output_type": "stream",
          "name": "stdout",
          "text": [
            "Epoch 41: Train Loss=0.0064, Val Loss=0.0033, Val Acc=99.83%\n"
          ]
        },
        {
          "output_type": "stream",
          "name": "stderr",
          "text": [
            "Epoch 42/100: 100%|██████████| 88/88 [00:15<00:00,  5.77it/s]\n"
          ]
        },
        {
          "output_type": "stream",
          "name": "stdout",
          "text": [
            "Epoch 42: Train Loss=0.0079, Val Loss=0.0045, Val Acc=99.83%\n"
          ]
        },
        {
          "output_type": "stream",
          "name": "stderr",
          "text": [
            "Epoch 43/100: 100%|██████████| 88/88 [00:15<00:00,  5.76it/s]\n"
          ]
        },
        {
          "output_type": "stream",
          "name": "stdout",
          "text": [
            "Epoch 43: Train Loss=0.0031, Val Loss=0.0037, Val Acc=99.83%\n"
          ]
        },
        {
          "output_type": "stream",
          "name": "stderr",
          "text": [
            "Epoch 44/100: 100%|██████████| 88/88 [00:15<00:00,  5.68it/s]\n"
          ]
        },
        {
          "output_type": "stream",
          "name": "stdout",
          "text": [
            "Epoch 44: Train Loss=0.0036, Val Loss=0.0097, Val Acc=99.83%\n"
          ]
        },
        {
          "output_type": "stream",
          "name": "stderr",
          "text": [
            "Epoch 45/100: 100%|██████████| 88/88 [00:16<00:00,  5.42it/s]\n"
          ]
        },
        {
          "output_type": "stream",
          "name": "stdout",
          "text": [
            "Epoch 45: Train Loss=0.0055, Val Loss=0.0004, Val Acc=100.00%\n"
          ]
        },
        {
          "output_type": "stream",
          "name": "stderr",
          "text": [
            "Epoch 46/100: 100%|██████████| 88/88 [00:15<00:00,  5.77it/s]\n"
          ]
        },
        {
          "output_type": "stream",
          "name": "stdout",
          "text": [
            "Epoch 46: Train Loss=0.0019, Val Loss=0.0012, Val Acc=99.83%\n"
          ]
        },
        {
          "output_type": "stream",
          "name": "stderr",
          "text": [
            "Epoch 47/100: 100%|██████████| 88/88 [00:15<00:00,  5.54it/s]\n"
          ]
        },
        {
          "output_type": "stream",
          "name": "stdout",
          "text": [
            "Epoch 47: Train Loss=0.0054, Val Loss=0.0007, Val Acc=100.00%\n"
          ]
        },
        {
          "output_type": "stream",
          "name": "stderr",
          "text": [
            "Epoch 48/100: 100%|██████████| 88/88 [00:15<00:00,  5.66it/s]\n"
          ]
        },
        {
          "output_type": "stream",
          "name": "stdout",
          "text": [
            "Epoch 48: Train Loss=0.0010, Val Loss=0.0020, Val Acc=99.83%\n"
          ]
        },
        {
          "output_type": "stream",
          "name": "stderr",
          "text": [
            "Epoch 49/100: 100%|██████████| 88/88 [00:14<00:00,  5.89it/s]\n"
          ]
        },
        {
          "output_type": "stream",
          "name": "stdout",
          "text": [
            "Epoch 49: Train Loss=0.0114, Val Loss=0.0070, Val Acc=99.83%\n"
          ]
        },
        {
          "output_type": "stream",
          "name": "stderr",
          "text": [
            "Epoch 50/100: 100%|██████████| 88/88 [00:15<00:00,  5.66it/s]\n"
          ]
        },
        {
          "output_type": "stream",
          "name": "stdout",
          "text": [
            "Epoch 50: Train Loss=0.0086, Val Loss=0.0001, Val Acc=100.00%\n"
          ]
        },
        {
          "output_type": "stream",
          "name": "stderr",
          "text": [
            "Epoch 51/100: 100%|██████████| 88/88 [00:15<00:00,  5.66it/s]\n"
          ]
        },
        {
          "output_type": "stream",
          "name": "stdout",
          "text": [
            "Epoch 51: Train Loss=0.0015, Val Loss=0.0020, Val Acc=99.83%\n"
          ]
        },
        {
          "output_type": "stream",
          "name": "stderr",
          "text": [
            "Epoch 52/100: 100%|██████████| 88/88 [00:16<00:00,  5.47it/s]\n"
          ]
        },
        {
          "output_type": "stream",
          "name": "stdout",
          "text": [
            "Epoch 52: Train Loss=0.0051, Val Loss=0.0007, Val Acc=100.00%\n"
          ]
        },
        {
          "output_type": "stream",
          "name": "stderr",
          "text": [
            "Epoch 53/100: 100%|██████████| 88/88 [00:15<00:00,  5.58it/s]\n"
          ]
        },
        {
          "output_type": "stream",
          "name": "stdout",
          "text": [
            "Epoch 53: Train Loss=0.0011, Val Loss=0.0011, Val Acc=99.83%\n"
          ]
        },
        {
          "output_type": "stream",
          "name": "stderr",
          "text": [
            "Epoch 54/100: 100%|██████████| 88/88 [00:15<00:00,  5.55it/s]\n"
          ]
        },
        {
          "output_type": "stream",
          "name": "stdout",
          "text": [
            "Epoch 54: Train Loss=0.0054, Val Loss=0.0033, Val Acc=99.83%\n"
          ]
        },
        {
          "output_type": "stream",
          "name": "stderr",
          "text": [
            "Epoch 55/100: 100%|██████████| 88/88 [00:16<00:00,  5.42it/s]\n"
          ]
        },
        {
          "output_type": "stream",
          "name": "stdout",
          "text": [
            "Epoch 55: Train Loss=0.0037, Val Loss=0.0056, Val Acc=99.83%\n"
          ]
        },
        {
          "output_type": "stream",
          "name": "stderr",
          "text": [
            "Epoch 56/100: 100%|██████████| 88/88 [00:15<00:00,  5.67it/s]\n"
          ]
        },
        {
          "output_type": "stream",
          "name": "stdout",
          "text": [
            "Epoch 56: Train Loss=0.0031, Val Loss=0.0034, Val Acc=99.83%\n"
          ]
        },
        {
          "output_type": "stream",
          "name": "stderr",
          "text": [
            "Epoch 57/100: 100%|██████████| 88/88 [00:16<00:00,  5.47it/s]\n"
          ]
        },
        {
          "output_type": "stream",
          "name": "stdout",
          "text": [
            "Epoch 57: Train Loss=0.0042, Val Loss=0.0004, Val Acc=100.00%\n"
          ]
        },
        {
          "output_type": "stream",
          "name": "stderr",
          "text": [
            "Epoch 58/100: 100%|██████████| 88/88 [00:15<00:00,  5.77it/s]\n"
          ]
        },
        {
          "output_type": "stream",
          "name": "stdout",
          "text": [
            "Epoch 58: Train Loss=0.0018, Val Loss=0.0003, Val Acc=100.00%\n"
          ]
        },
        {
          "output_type": "stream",
          "name": "stderr",
          "text": [
            "Epoch 59/100: 100%|██████████| 88/88 [00:15<00:00,  5.59it/s]\n"
          ]
        },
        {
          "output_type": "stream",
          "name": "stdout",
          "text": [
            "Epoch 59: Train Loss=0.0013, Val Loss=0.0001, Val Acc=100.00%\n"
          ]
        },
        {
          "output_type": "stream",
          "name": "stderr",
          "text": [
            "Epoch 60/100: 100%|██████████| 88/88 [00:15<00:00,  5.74it/s]\n"
          ]
        },
        {
          "output_type": "stream",
          "name": "stdout",
          "text": [
            "Epoch 60: Train Loss=0.0002, Val Loss=0.0001, Val Acc=100.00%\n"
          ]
        },
        {
          "output_type": "stream",
          "name": "stderr",
          "text": [
            "Epoch 61/100: 100%|██████████| 88/88 [00:15<00:00,  5.72it/s]\n"
          ]
        },
        {
          "output_type": "stream",
          "name": "stdout",
          "text": [
            "Epoch 61: Train Loss=0.0001, Val Loss=0.0001, Val Acc=100.00%\n"
          ]
        },
        {
          "output_type": "stream",
          "name": "stderr",
          "text": [
            "Epoch 62/100: 100%|██████████| 88/88 [00:15<00:00,  5.69it/s]\n"
          ]
        },
        {
          "output_type": "stream",
          "name": "stdout",
          "text": [
            "Epoch 62: Train Loss=0.0023, Val Loss=0.0016, Val Acc=99.83%\n"
          ]
        },
        {
          "output_type": "stream",
          "name": "stderr",
          "text": [
            "Epoch 63/100: 100%|██████████| 88/88 [00:15<00:00,  5.72it/s]\n"
          ]
        },
        {
          "output_type": "stream",
          "name": "stdout",
          "text": [
            "Epoch 63: Train Loss=0.0056, Val Loss=0.0001, Val Acc=100.00%\n"
          ]
        },
        {
          "output_type": "stream",
          "name": "stderr",
          "text": [
            "Epoch 64/100: 100%|██████████| 88/88 [00:15<00:00,  5.79it/s]\n"
          ]
        },
        {
          "output_type": "stream",
          "name": "stdout",
          "text": [
            "Epoch 64: Train Loss=0.0089, Val Loss=0.0024, Val Acc=99.83%\n"
          ]
        },
        {
          "output_type": "stream",
          "name": "stderr",
          "text": [
            "Epoch 65/100: 100%|██████████| 88/88 [00:15<00:00,  5.78it/s]\n"
          ]
        },
        {
          "output_type": "stream",
          "name": "stdout",
          "text": [
            "Epoch 65: Train Loss=0.0029, Val Loss=0.0008, Val Acc=100.00%\n"
          ]
        },
        {
          "output_type": "stream",
          "name": "stderr",
          "text": [
            "Epoch 66/100: 100%|██████████| 88/88 [00:15<00:00,  5.79it/s]\n"
          ]
        },
        {
          "output_type": "stream",
          "name": "stdout",
          "text": [
            "Epoch 66: Train Loss=0.0021, Val Loss=0.0001, Val Acc=100.00%\n"
          ]
        },
        {
          "output_type": "stream",
          "name": "stderr",
          "text": [
            "Epoch 67/100: 100%|██████████| 88/88 [00:15<00:00,  5.63it/s]\n"
          ]
        },
        {
          "output_type": "stream",
          "name": "stdout",
          "text": [
            "Epoch 67: Train Loss=0.0013, Val Loss=0.0001, Val Acc=100.00%\n"
          ]
        },
        {
          "output_type": "stream",
          "name": "stderr",
          "text": [
            "Epoch 68/100: 100%|██████████| 88/88 [00:15<00:00,  5.78it/s]\n"
          ]
        },
        {
          "output_type": "stream",
          "name": "stdout",
          "text": [
            "Epoch 68: Train Loss=0.0016, Val Loss=0.0001, Val Acc=100.00%\n"
          ]
        },
        {
          "output_type": "stream",
          "name": "stderr",
          "text": [
            "Epoch 69/100: 100%|██████████| 88/88 [00:15<00:00,  5.69it/s]\n"
          ]
        },
        {
          "output_type": "stream",
          "name": "stdout",
          "text": [
            "Epoch 69: Train Loss=0.0025, Val Loss=0.0016, Val Acc=99.83%\n"
          ]
        },
        {
          "output_type": "stream",
          "name": "stderr",
          "text": [
            "Epoch 70/100: 100%|██████████| 88/88 [00:15<00:00,  5.82it/s]\n"
          ]
        },
        {
          "output_type": "stream",
          "name": "stdout",
          "text": [
            "Epoch 70: Train Loss=0.0309, Val Loss=0.0037, Val Acc=99.83%\n"
          ]
        },
        {
          "output_type": "stream",
          "name": "stderr",
          "text": [
            "Epoch 71/100: 100%|██████████| 88/88 [00:15<00:00,  5.54it/s]\n"
          ]
        },
        {
          "output_type": "stream",
          "name": "stdout",
          "text": [
            "Epoch 71: Train Loss=0.0050, Val Loss=0.0009, Val Acc=100.00%\n"
          ]
        },
        {
          "output_type": "stream",
          "name": "stderr",
          "text": [
            "Epoch 72/100: 100%|██████████| 88/88 [00:16<00:00,  5.45it/s]\n"
          ]
        },
        {
          "output_type": "stream",
          "name": "stdout",
          "text": [
            "Epoch 72: Train Loss=0.0069, Val Loss=0.0011, Val Acc=100.00%\n"
          ]
        },
        {
          "output_type": "stream",
          "name": "stderr",
          "text": [
            "Epoch 73/100: 100%|██████████| 88/88 [00:15<00:00,  5.66it/s]\n"
          ]
        },
        {
          "output_type": "stream",
          "name": "stdout",
          "text": [
            "Epoch 73: Train Loss=0.0045, Val Loss=0.0025, Val Acc=99.83%\n"
          ]
        },
        {
          "output_type": "stream",
          "name": "stderr",
          "text": [
            "Epoch 74/100: 100%|██████████| 88/88 [00:15<00:00,  5.79it/s]\n"
          ]
        },
        {
          "output_type": "stream",
          "name": "stdout",
          "text": [
            "Epoch 74: Train Loss=0.0011, Val Loss=0.0052, Val Acc=99.83%\n"
          ]
        },
        {
          "output_type": "stream",
          "name": "stderr",
          "text": [
            "Epoch 75/100: 100%|██████████| 88/88 [00:16<00:00,  5.49it/s]\n"
          ]
        },
        {
          "output_type": "stream",
          "name": "stdout",
          "text": [
            "Epoch 75: Train Loss=0.0018, Val Loss=0.0018, Val Acc=99.83%\n"
          ]
        },
        {
          "output_type": "stream",
          "name": "stderr",
          "text": [
            "Epoch 76/100: 100%|██████████| 88/88 [00:15<00:00,  5.64it/s]\n"
          ]
        },
        {
          "output_type": "stream",
          "name": "stdout",
          "text": [
            "Epoch 76: Train Loss=0.0022, Val Loss=0.0000, Val Acc=100.00%\n"
          ]
        },
        {
          "output_type": "stream",
          "name": "stderr",
          "text": [
            "Epoch 77/100: 100%|██████████| 88/88 [00:15<00:00,  5.59it/s]\n"
          ]
        },
        {
          "output_type": "stream",
          "name": "stdout",
          "text": [
            "Epoch 77: Train Loss=0.0016, Val Loss=0.0000, Val Acc=100.00%\n"
          ]
        },
        {
          "output_type": "stream",
          "name": "stderr",
          "text": [
            "Epoch 78/100: 100%|██████████| 88/88 [00:15<00:00,  5.73it/s]\n"
          ]
        },
        {
          "output_type": "stream",
          "name": "stdout",
          "text": [
            "Epoch 78: Train Loss=0.0037, Val Loss=0.0002, Val Acc=100.00%\n"
          ]
        },
        {
          "output_type": "stream",
          "name": "stderr",
          "text": [
            "Epoch 79/100: 100%|██████████| 88/88 [00:15<00:00,  5.66it/s]\n"
          ]
        },
        {
          "output_type": "stream",
          "name": "stdout",
          "text": [
            "Epoch 79: Train Loss=0.0037, Val Loss=0.0015, Val Acc=99.83%\n"
          ]
        },
        {
          "output_type": "stream",
          "name": "stderr",
          "text": [
            "Epoch 80/100: 100%|██████████| 88/88 [00:15<00:00,  5.56it/s]\n"
          ]
        },
        {
          "output_type": "stream",
          "name": "stdout",
          "text": [
            "Epoch 80: Train Loss=0.0041, Val Loss=0.0002, Val Acc=100.00%\n"
          ]
        },
        {
          "output_type": "stream",
          "name": "stderr",
          "text": [
            "Epoch 81/100: 100%|██████████| 88/88 [00:15<00:00,  5.70it/s]\n"
          ]
        },
        {
          "output_type": "stream",
          "name": "stdout",
          "text": [
            "Epoch 81: Train Loss=0.0013, Val Loss=0.0002, Val Acc=100.00%\n"
          ]
        },
        {
          "output_type": "stream",
          "name": "stderr",
          "text": [
            "Epoch 82/100: 100%|██████████| 88/88 [00:15<00:00,  5.77it/s]\n"
          ]
        },
        {
          "output_type": "stream",
          "name": "stdout",
          "text": [
            "Epoch 82: Train Loss=0.0013, Val Loss=0.0000, Val Acc=100.00%\n"
          ]
        },
        {
          "output_type": "stream",
          "name": "stderr",
          "text": [
            "Epoch 83/100: 100%|██████████| 88/88 [00:15<00:00,  5.71it/s]\n"
          ]
        },
        {
          "output_type": "stream",
          "name": "stdout",
          "text": [
            "Epoch 83: Train Loss=0.0010, Val Loss=0.0000, Val Acc=100.00%\n"
          ]
        },
        {
          "output_type": "stream",
          "name": "stderr",
          "text": [
            "Epoch 84/100: 100%|██████████| 88/88 [00:15<00:00,  5.63it/s]\n"
          ]
        },
        {
          "output_type": "stream",
          "name": "stdout",
          "text": [
            "Epoch 84: Train Loss=0.0003, Val Loss=0.0000, Val Acc=100.00%\n"
          ]
        },
        {
          "output_type": "stream",
          "name": "stderr",
          "text": [
            "Epoch 85/100: 100%|██████████| 88/88 [00:15<00:00,  5.80it/s]\n"
          ]
        },
        {
          "output_type": "stream",
          "name": "stdout",
          "text": [
            "Epoch 85: Train Loss=0.0025, Val Loss=0.0001, Val Acc=100.00%\n"
          ]
        },
        {
          "output_type": "stream",
          "name": "stderr",
          "text": [
            "Epoch 86/100: 100%|██████████| 88/88 [00:15<00:00,  5.71it/s]\n"
          ]
        },
        {
          "output_type": "stream",
          "name": "stdout",
          "text": [
            "Epoch 86: Train Loss=0.0044, Val Loss=0.0000, Val Acc=100.00%\n"
          ]
        },
        {
          "output_type": "stream",
          "name": "stderr",
          "text": [
            "Epoch 87/100: 100%|██████████| 88/88 [00:15<00:00,  5.86it/s]\n"
          ]
        },
        {
          "output_type": "stream",
          "name": "stdout",
          "text": [
            "Epoch 87: Train Loss=0.0006, Val Loss=0.0000, Val Acc=100.00%\n"
          ]
        },
        {
          "output_type": "stream",
          "name": "stderr",
          "text": [
            "Epoch 88/100: 100%|██████████| 88/88 [00:15<00:00,  5.75it/s]\n"
          ]
        },
        {
          "output_type": "stream",
          "name": "stdout",
          "text": [
            "Epoch 88: Train Loss=0.0003, Val Loss=0.0003, Val Acc=100.00%\n"
          ]
        },
        {
          "output_type": "stream",
          "name": "stderr",
          "text": [
            "Epoch 89/100: 100%|██████████| 88/88 [00:15<00:00,  5.60it/s]\n"
          ]
        },
        {
          "output_type": "stream",
          "name": "stdout",
          "text": [
            "Epoch 89: Train Loss=0.0015, Val Loss=0.0000, Val Acc=100.00%\n"
          ]
        },
        {
          "output_type": "stream",
          "name": "stderr",
          "text": [
            "Epoch 90/100: 100%|██████████| 88/88 [00:15<00:00,  5.79it/s]\n"
          ]
        },
        {
          "output_type": "stream",
          "name": "stdout",
          "text": [
            "Epoch 90: Train Loss=0.0031, Val Loss=0.0009, Val Acc=100.00%\n"
          ]
        },
        {
          "output_type": "stream",
          "name": "stderr",
          "text": [
            "Epoch 91/100: 100%|██████████| 88/88 [00:15<00:00,  5.77it/s]\n"
          ]
        },
        {
          "output_type": "stream",
          "name": "stdout",
          "text": [
            "Epoch 91: Train Loss=0.0171, Val Loss=0.0001, Val Acc=100.00%\n"
          ]
        },
        {
          "output_type": "stream",
          "name": "stderr",
          "text": [
            "Epoch 92/100: 100%|██████████| 88/88 [00:16<00:00,  5.42it/s]\n"
          ]
        },
        {
          "output_type": "stream",
          "name": "stdout",
          "text": [
            "Epoch 92: Train Loss=0.0097, Val Loss=0.0009, Val Acc=100.00%\n"
          ]
        },
        {
          "output_type": "stream",
          "name": "stderr",
          "text": [
            "Epoch 93/100: 100%|██████████| 88/88 [00:16<00:00,  5.44it/s]\n"
          ]
        },
        {
          "output_type": "stream",
          "name": "stdout",
          "text": [
            "Epoch 93: Train Loss=0.0025, Val Loss=0.0014, Val Acc=99.83%\n"
          ]
        },
        {
          "output_type": "stream",
          "name": "stderr",
          "text": [
            "Epoch 94/100: 100%|██████████| 88/88 [00:15<00:00,  5.65it/s]\n"
          ]
        },
        {
          "output_type": "stream",
          "name": "stdout",
          "text": [
            "Epoch 94: Train Loss=0.0010, Val Loss=0.0023, Val Acc=99.83%\n"
          ]
        },
        {
          "output_type": "stream",
          "name": "stderr",
          "text": [
            "Epoch 95/100: 100%|██████████| 88/88 [00:15<00:00,  5.68it/s]\n"
          ]
        },
        {
          "output_type": "stream",
          "name": "stdout",
          "text": [
            "Epoch 95: Train Loss=0.0044, Val Loss=0.0000, Val Acc=100.00%\n"
          ]
        },
        {
          "output_type": "stream",
          "name": "stderr",
          "text": [
            "Epoch 96/100: 100%|██████████| 88/88 [00:15<00:00,  5.54it/s]\n"
          ]
        },
        {
          "output_type": "stream",
          "name": "stdout",
          "text": [
            "Epoch 96: Train Loss=0.0023, Val Loss=0.0002, Val Acc=100.00%\n"
          ]
        },
        {
          "output_type": "stream",
          "name": "stderr",
          "text": [
            "Epoch 97/100: 100%|██████████| 88/88 [00:15<00:00,  5.77it/s]\n"
          ]
        },
        {
          "output_type": "stream",
          "name": "stdout",
          "text": [
            "Epoch 97: Train Loss=0.0039, Val Loss=0.0003, Val Acc=100.00%\n"
          ]
        },
        {
          "output_type": "stream",
          "name": "stderr",
          "text": [
            "Epoch 98/100: 100%|██████████| 88/88 [00:15<00:00,  5.75it/s]\n"
          ]
        },
        {
          "output_type": "stream",
          "name": "stdout",
          "text": [
            "Epoch 98: Train Loss=0.0021, Val Loss=0.0001, Val Acc=100.00%\n"
          ]
        },
        {
          "output_type": "stream",
          "name": "stderr",
          "text": [
            "Epoch 99/100: 100%|██████████| 88/88 [00:15<00:00,  5.54it/s]\n"
          ]
        },
        {
          "output_type": "stream",
          "name": "stdout",
          "text": [
            "Epoch 99: Train Loss=0.0024, Val Loss=0.0001, Val Acc=100.00%\n"
          ]
        },
        {
          "output_type": "stream",
          "name": "stderr",
          "text": [
            "Epoch 100/100: 100%|██████████| 88/88 [00:15<00:00,  5.59it/s]\n"
          ]
        },
        {
          "output_type": "stream",
          "name": "stdout",
          "text": [
            "Epoch 100: Train Loss=0.0021, Val Loss=0.0000, Val Acc=100.00%\n"
          ]
        },
        {
          "output_type": "display_data",
          "data": {
            "text/plain": [
              "<Figure size 1400x500 with 2 Axes>"
            ],
            "image/png": "[encoded data removed]"
          },
          "metadata": {}
        },
        {
          "output_type": "stream",
          "name": "stdout",
          "text": [
            "Test Image: /content/drive/MyDrive/new_dataset/test/P1.jpeg\n",
            "Predicted: REAL\n",
            "Test Image: /content/drive/MyDrive/new_dataset/test/P2.jpeg\n",
            "Predicted: REAL\n",
            "Test Image: /content/drive/MyDrive/new_dataset/test/P3.jpeg\n",
            "Predicted: REAL\n",
            "Test Image: /content/drive/MyDrive/new_dataset/test/P4.jpeg\n",
            "Predicted: REAL\n",
            "Test Image: /content/drive/MyDrive/new_dataset/test/P5.jpeg\n",
            "Predicted: REAL\n",
            "Test Image: /content/drive/MyDrive/new_dataset/test/P6.jpeg\n",
            "Predicted: REAL\n",
            "Test Image: /content/drive/MyDrive/new_dataset/test/P7.jpeg\n",
            "Predicted: REAL\n",
            "Test Image: /content/drive/MyDrive/new_dataset/test/P8.jpeg\n",
            "Predicted: REAL\n",
            "Test Image: /content/drive/MyDrive/new_dataset/test/P9.jpeg\n",
            "Predicted: REAL\n",
            "Test Image: /content/drive/MyDrive/new_dataset/test/P10.jpeg\n",
            "Predicted: REAL\n",
            "Test Image: /content/drive/MyDrive/new_dataset/test/P11.jpeg\n",
            "Predicted: REAL\n",
            "Test Image: /content/drive/MyDrive/new_dataset/test/P12.jpeg\n",
            "Predicted: REAL\n",
            "Test Image: /content/drive/MyDrive/new_dataset/test/P13.jpeg\n",
            "Predicted: REAL\n",
            "Test Image: /content/drive/MyDrive/new_dataset/test/P14.jpeg\n",
            "Predicted: REAL\n",
            "Test Image: /content/drive/MyDrive/new_dataset/test/P15.jpeg\n",
            "Predicted: REAL\n",
            "Test Image: /content/drive/MyDrive/new_dataset/test/P16.jpeg\n",
            "Predicted: REAL\n",
            "Test Image: /content/drive/MyDrive/new_dataset/test/P17.jpeg\n",
            "Predicted: REAL\n",
            "Test Image: /content/drive/MyDrive/new_dataset/test/P18.jpeg\n",
            "Predicted: REAL\n",
            "Test Image: /content/drive/MyDrive/new_dataset/test/P19.jpeg\n",
            "Predicted: REAL\n",
            "Test Image: /content/drive/MyDrive/new_dataset/test/P20.jpeg\n",
            "Predicted: REAL\n",
            "Test Image: /content/drive/MyDrive/new_dataset/test/P21.jpeg\n",
            "Predicted: REAL\n",
            "Test Image: /content/drive/MyDrive/new_dataset/test/P22.jpeg\n",
            "Predicted: REAL\n",
            "Test Image: /content/drive/MyDrive/new_dataset/test/P23.jpeg\n",
            "Predicted: REAL\n",
            "Test Image: /content/drive/MyDrive/new_dataset/test/P24.jpeg\n",
            "Predicted: REAL\n",
            "Test Image: /content/drive/MyDrive/new_dataset/test/P25.jpeg\n",
            "Predicted: REAL\n",
            "Test Image: /content/drive/MyDrive/new_dataset/test/P26_.jpeg\n",
            "Predicted: REAL\n",
            "Test Image: /content/drive/MyDrive/new_dataset/test/P27.jpeg\n",
            "Predicted: REAL\n",
            "Test Image: /content/drive/MyDrive/new_dataset/test/P28.jpeg\n",
            "Predicted: REAL\n",
            "Test Image: /content/drive/MyDrive/new_dataset/test/P29.jpeg\n",
            "Predicted: REAL\n",
            "Test Image: /content/drive/MyDrive/new_dataset/test/P30.jpeg\n",
            "Predicted: REAL\n",
            "Test Image: /content/drive/MyDrive/new_dataset/test/P31.jpeg\n",
            "Predicted: REAL\n",
            "Test Image: /content/drive/MyDrive/new_dataset/test/P32.jpeg\n",
            "Predicted: REAL\n",
            "Test Image: /content/drive/MyDrive/new_dataset/test/P33.jpeg\n",
            "Predicted: REAL\n",
            "Test Image: /content/drive/MyDrive/new_dataset/test/P34.jpeg\n",
            "Predicted: REAL\n",
            "Test Image: /content/drive/MyDrive/new_dataset/test/P35.jpeg\n",
            "Predicted: REAL\n",
            "Test Image: /content/drive/MyDrive/new_dataset/test/P36.jpeg\n",
            "Predicted: REAL\n",
            "Test Image: /content/drive/MyDrive/new_dataset/test/P37.jpeg\n",
            "Predicted: REAL\n",
            "Test Image: /content/drive/MyDrive/new_dataset/test/P38.jpeg\n",
            "Predicted: REAL\n",
            "Test Image: /content/drive/MyDrive/new_dataset/test/P39.jpeg\n",
            "Predicted: REAL\n",
            "Test Image: /content/drive/MyDrive/new_dataset/test/P40.jpeg\n",
            "Predicted: REAL\n",
            "Test Image: /content/drive/MyDrive/new_dataset/test/P41.jpeg\n",
            "Predicted: REAL\n",
            "Test Image: /content/drive/MyDrive/new_dataset/test/P42.jpeg\n",
            "Predicted: REAL\n",
            "Test Image: /content/drive/MyDrive/new_dataset/test/P43.jpeg\n",
            "Predicted: REAL\n",
            "Test Image: /content/drive/MyDrive/new_dataset/test/P44.jpeg\n",
            "Predicted: REAL\n",
            "Test Image: /content/drive/MyDrive/new_dataset/test/P45.jpeg\n",
            "Predicted: REAL\n",
            "Test Image: /content/drive/MyDrive/new_dataset/test/P46.jpeg\n",
            "Predicted: REAL\n",
            "Test Image: /content/drive/MyDrive/new_dataset/test/P47.jpeg\n",
            "Predicted: REAL\n",
            "Test Image: /content/drive/MyDrive/new_dataset/test/P48.jpeg\n",
            "Predicted: REAL\n",
            "Test Image: /content/drive/MyDrive/new_dataset/test/P49.jpeg\n",
            "Predicted: REAL\n",
            "Test Image: /content/drive/MyDrive/new_dataset/test/P50.jpeg\n",
            "Predicted: REAL\n",
            "Test Image: /content/drive/MyDrive/new_dataset/test/P51.jpeg\n",
            "Predicted: REAL\n",
            "Test Image: /content/drive/MyDrive/new_dataset/test/P52.jpeg\n",
            "Predicted: REAL\n",
            "Test Image: /content/drive/MyDrive/new_dataset/test/P53.jpeg\n",
            "Predicted: REAL\n",
            "Test Image: /content/drive/MyDrive/new_dataset/test/P54.jpeg\n",
            "Predicted: REAL\n",
            "Test Image: /content/drive/MyDrive/new_dataset/test/P55.jpeg\n",
            "Predicted: REAL\n",
            "Test Image: /content/drive/MyDrive/new_dataset/test/P56.jpeg\n",
            "Predicted: REAL\n",
            "Test Image: /content/drive/MyDrive/new_dataset/test/P57.jpeg\n",
            "Predicted: REAL\n",
            "Test Image: /content/drive/MyDrive/new_dataset/test/P58.jpeg\n",
            "Predicted: REAL\n",
            "Test Image: /content/drive/MyDrive/new_dataset/test/P59.jpeg\n",
            "Predicted: REAL\n",
            "Test Image: /content/drive/MyDrive/new_dataset/test/P60.jpeg\n",
            "Predicted: REAL\n",
            "Test Image: /content/drive/MyDrive/new_dataset/test/P61.jpeg\n",
            "Predicted: REAL\n",
            "Test Image: /content/drive/MyDrive/new_dataset/test/P62.jpeg\n",
            "Predicted: REAL\n",
            "Test Image: /content/drive/MyDrive/new_dataset/test/P63.jpeg\n",
            "Predicted: REAL\n",
            "Test Image: /content/drive/MyDrive/new_dataset/test/P64.jpeg\n",
            "Predicted: REAL\n",
            "Test Image: /content/drive/MyDrive/new_dataset/test/P65.jpeg\n",
            "Predicted: REAL\n",
            "Test Image: /content/drive/MyDrive/new_dataset/test/P66.jpeg\n",
            "Predicted: REAL\n",
            "Test Image: /content/drive/MyDrive/new_dataset/test/P67.jpeg\n",
            "Predicted: REAL\n",
            "Test Image: /content/drive/MyDrive/new_dataset/test/P68.jpeg\n",
            "Predicted: REAL\n",
            "Test Image: /content/drive/MyDrive/new_dataset/test/P69.jpeg\n",
            "Predicted: REAL\n",
            "Test Image: /content/drive/MyDrive/new_dataset/test/P70.jpeg\n",
            "Predicted: REAL\n",
            "Test Image: /content/drive/MyDrive/new_dataset/test/P71.jpeg\n",
            "Predicted: REAL\n",
            "Test Image: /content/drive/MyDrive/new_dataset/test/P72.jpeg\n",
            "Predicted: REAL\n",
            "Test Image: /content/drive/MyDrive/new_dataset/test/P73.jpeg\n",
            "Predicted: REAL\n",
            "Test Image: /content/drive/MyDrive/new_dataset/test/P74.jpeg\n",
            "Predicted: REAL\n",
            "Test Image: /content/drive/MyDrive/new_dataset/test/P75.jpeg\n",
            "Predicted: REAL\n",
            "Test Image: /content/drive/MyDrive/new_dataset/test/P76.jpeg\n",
            "Predicted: REAL\n",
            "Test Image: /content/drive/MyDrive/new_dataset/test/P77.jpeg\n",
            "Predicted: REAL\n",
            "Test Image: /content/drive/MyDrive/new_dataset/test/P78.jpeg\n",
            "Predicted: REAL\n",
            "Test Image: /content/drive/MyDrive/new_dataset/test/P79.jpeg\n",
            "Predicted: REAL\n",
            "Test Image: /content/drive/MyDrive/new_dataset/test/P80.jpeg\n",
            "Predicted: REAL\n",
            "Test Image: /content/drive/MyDrive/new_dataset/test/P81.jpeg\n",
            "Predicted: REAL\n",
            "Test Image: /content/drive/MyDrive/new_dataset/test/P82.jpeg\n",
            "Predicted: REAL\n",
            "Test Image: /content/drive/MyDrive/new_dataset/test/P83.jpeg\n",
            "Predicted: REAL\n",
            "Test Image: /content/drive/MyDrive/new_dataset/test/P84.jpeg\n",
            "Predicted: REAL\n",
            "Test Image: /content/drive/MyDrive/new_dataset/test/P85.jpeg\n",
            "Predicted: REAL\n",
            "Test Image: /content/drive/MyDrive/new_dataset/test/P86.jpeg\n",
            "Predicted: REAL\n",
            "Test Image: /content/drive/MyDrive/new_dataset/test/P87.jpeg\n",
            "Predicted: REAL\n",
            "Test Image: /content/drive/MyDrive/new_dataset/test/P88.jpeg\n",
            "Predicted: REAL\n",
            "Test Image: /content/drive/MyDrive/new_dataset/test/P89.jpeg\n",
            "Predicted: REAL\n",
            "Test Image: /content/drive/MyDrive/new_dataset/test/P90.jpeg\n",
            "Predicted: REAL\n",
            "Test Image: /content/drive/MyDrive/new_dataset/test/P91.jpeg\n",
            "Predicted: REAL\n",
            "Test Image: /content/drive/MyDrive/new_dataset/test/P92.jpeg\n",
            "Predicted: REAL\n",
            "Test Image: /content/drive/MyDrive/new_dataset/test/P93.jpeg\n",
            "Predicted: REAL\n",
            "Test Image: /content/drive/MyDrive/new_dataset/test/P94.jpeg\n",
            "Predicted: REAL\n",
            "Test Image: /content/drive/MyDrive/new_dataset/test/P95.jpeg\n",
            "Predicted: REAL\n",
            "Test Image: /content/drive/MyDrive/new_dataset/test/P96.jpeg\n",
            "Predicted: REAL\n",
            "Test Image: /content/drive/MyDrive/new_dataset/test/P97.jpeg\n",
            "Predicted: REAL\n",
            "Test Image: /content/drive/MyDrive/new_dataset/test/P98.jpeg\n",
            "Predicted: REAL\n",
            "Test Image: /content/drive/MyDrive/new_dataset/test/P99.jpeg\n",
            "Predicted: REAL\n",
            "Test Image: /content/drive/MyDrive/new_dataset/test/P100.jpeg\n",
            "Predicted: REAL\n",
            "Test Image: /content/drive/MyDrive/new_dataset/test/label1_img0132 (6).png\n",
            "Predicted: FAKE\n",
            "Test Image: /content/drive/MyDrive/new_dataset/test/label1_img0138 (6).png\n",
            "Predicted: FAKE\n",
            "Test Image: /content/drive/MyDrive/new_dataset/test/label1_img0130 (6).png\n",
            "Predicted: FAKE\n",
            "Test Image: /content/drive/MyDrive/new_dataset/test/label1_img0136 (6).png\n",
            "Predicted: FAKE\n",
            "Test Image: /content/drive/MyDrive/new_dataset/test/label1_img0140 (6).png\n",
            "Predicted: FAKE\n",
            "Test Image: /content/drive/MyDrive/new_dataset/test/label1_img0135 (6).png\n",
            "Predicted: FAKE\n",
            "Test Image: /content/drive/MyDrive/new_dataset/test/label1_img0131 (6).png\n",
            "Predicted: FAKE\n",
            "Test Image: /content/drive/MyDrive/new_dataset/test/label1_img0129 (6).png\n",
            "Predicted: FAKE\n",
            "Test Image: /content/drive/MyDrive/new_dataset/test/label1_img0134 (6).png\n",
            "Predicted: FAKE\n",
            "Test Image: /content/drive/MyDrive/new_dataset/test/label1_img0137 (6).png\n",
            "Predicted: FAKE\n",
            "Test Image: /content/drive/MyDrive/new_dataset/test/label1_img0133 (6).png\n",
            "Predicted: FAKE\n",
            "Test Image: /content/drive/MyDrive/new_dataset/test/label1_img0139 (6).png\n",
            "Predicted: FAKE\n",
            "Test Image: /content/drive/MyDrive/new_dataset/test/label1_img0137 (5).png\n",
            "Predicted: FAKE\n",
            "Test Image: /content/drive/MyDrive/new_dataset/test/label1_img0140 (5).png\n",
            "Predicted: FAKE\n",
            "Test Image: /content/drive/MyDrive/new_dataset/test/label1_img0131 (5).png\n",
            "Predicted: FAKE\n",
            "Test Image: /content/drive/MyDrive/new_dataset/test/label1_img0132 (5).png\n",
            "Predicted: FAKE\n",
            "Test Image: /content/drive/MyDrive/new_dataset/test/label1_img0129 (5).png\n",
            "Predicted: FAKE\n",
            "Test Image: /content/drive/MyDrive/new_dataset/test/label1_img0139 (5).png\n",
            "Predicted: FAKE\n",
            "Test Image: /content/drive/MyDrive/new_dataset/test/label1_img0133 (5).png\n",
            "Predicted: FAKE\n",
            "Test Image: /content/drive/MyDrive/new_dataset/test/label1_img0134 (5).png\n",
            "Predicted: FAKE\n",
            "Test Image: /content/drive/MyDrive/new_dataset/test/label1_img0138 (5).png\n",
            "Predicted: FAKE\n",
            "Test Image: /content/drive/MyDrive/new_dataset/test/label1_img0136 (5).png\n",
            "Predicted: FAKE\n",
            "Test Image: /content/drive/MyDrive/new_dataset/test/label1_img0135 (5).png\n",
            "Predicted: FAKE\n",
            "Test Image: /content/drive/MyDrive/new_dataset/test/label1_img0130 (5).png\n",
            "Predicted: FAKE\n",
            "Test Image: /content/drive/MyDrive/new_dataset/test/label1_img0139 (4).png\n",
            "Predicted: FAKE\n",
            "Test Image: /content/drive/MyDrive/new_dataset/test/label1_img0136 (4).png\n",
            "Predicted: FAKE\n",
            "Test Image: /content/drive/MyDrive/new_dataset/test/label1_img0137 (4).png\n",
            "Predicted: FAKE\n",
            "Test Image: /content/drive/MyDrive/new_dataset/test/label1_img0133 (4).png\n",
            "Predicted: FAKE\n",
            "Test Image: /content/drive/MyDrive/new_dataset/test/label1_img0132 (4).png\n",
            "Predicted: FAKE\n",
            "Test Image: /content/drive/MyDrive/new_dataset/test/label1_img0138 (4).png\n",
            "Predicted: FAKE\n",
            "Test Image: /content/drive/MyDrive/new_dataset/test/label1_img0130 (4).png\n",
            "Predicted: FAKE\n",
            "Test Image: /content/drive/MyDrive/new_dataset/test/label1_img0135 (4).png\n",
            "Predicted: FAKE\n",
            "Test Image: /content/drive/MyDrive/new_dataset/test/label1_img0134 (4).png\n",
            "Predicted: FAKE\n",
            "Test Image: /content/drive/MyDrive/new_dataset/test/label1_img0140 (4).png\n",
            "Predicted: FAKE\n",
            "Test Image: /content/drive/MyDrive/new_dataset/test/label1_img0129 (4).png\n",
            "Predicted: FAKE\n",
            "Test Image: /content/drive/MyDrive/new_dataset/test/label1_img0131 (4).png\n",
            "Predicted: FAKE\n",
            "Test Image: /content/drive/MyDrive/new_dataset/test/label1_img0138 (3).png\n",
            "Predicted: FAKE\n",
            "Test Image: /content/drive/MyDrive/new_dataset/test/label1_img0135 (3).png\n",
            "Predicted: FAKE\n",
            "Test Image: /content/drive/MyDrive/new_dataset/test/label1_img0139 (3).png\n",
            "Predicted: FAKE\n",
            "Test Image: /content/drive/MyDrive/new_dataset/test/label1_img0132 (3).png\n",
            "Predicted: FAKE\n",
            "Test Image: /content/drive/MyDrive/new_dataset/test/label1_img0133 (3).png\n",
            "Predicted: FAKE\n",
            "Test Image: /content/drive/MyDrive/new_dataset/test/label1_img0130 (3).png\n",
            "Predicted: FAKE\n",
            "Test Image: /content/drive/MyDrive/new_dataset/test/label1_img0134 (3).png\n",
            "Predicted: FAKE\n",
            "Test Image: /content/drive/MyDrive/new_dataset/test/label1_img0140 (3).png\n",
            "Predicted: FAKE\n",
            "Test Image: /content/drive/MyDrive/new_dataset/test/label1_img0137 (3).png\n",
            "Predicted: FAKE\n",
            "Test Image: /content/drive/MyDrive/new_dataset/test/label1_img0136 (3).png\n",
            "Predicted: FAKE\n",
            "Test Image: /content/drive/MyDrive/new_dataset/test/label1_img0129 (3).png\n",
            "Predicted: FAKE\n",
            "Test Image: /content/drive/MyDrive/new_dataset/test/label1_img0131 (3).png\n",
            "Predicted: FAKE\n",
            "Test Image: /content/drive/MyDrive/new_dataset/test/label1_img0133 (2).png\n",
            "Predicted: FAKE\n",
            "Test Image: /content/drive/MyDrive/new_dataset/test/label1_img0136 (2).png\n",
            "Predicted: FAKE\n",
            "Test Image: /content/drive/MyDrive/new_dataset/test/label1_img0139 (2).png\n",
            "Predicted: FAKE\n",
            "Test Image: /content/drive/MyDrive/new_dataset/test/label1_img0130 (2).png\n",
            "Predicted: FAKE\n",
            "Test Image: /content/drive/MyDrive/new_dataset/test/label1_img0134 (2).png\n",
            "Predicted: FAKE\n",
            "Test Image: /content/drive/MyDrive/new_dataset/test/label1_img0135 (2).png\n",
            "Predicted: FAKE\n",
            "Test Image: /content/drive/MyDrive/new_dataset/test/label1_img0138 (2).png\n",
            "Predicted: FAKE\n",
            "Test Image: /content/drive/MyDrive/new_dataset/test/label1_img0129 (2).png\n",
            "Predicted: FAKE\n",
            "Test Image: /content/drive/MyDrive/new_dataset/test/label1_img0131 (2).png\n",
            "Predicted: FAKE\n",
            "Test Image: /content/drive/MyDrive/new_dataset/test/label1_img0137 (2).png\n",
            "Predicted: FAKE\n",
            "Test Image: /content/drive/MyDrive/new_dataset/test/label1_img0140 (2).png\n",
            "Predicted: FAKE\n",
            "Test Image: /content/drive/MyDrive/new_dataset/test/label1_img0132 (2).png\n",
            "Predicted: FAKE\n",
            "Test Image: /content/drive/MyDrive/new_dataset/test/label1_img0133 (1).png\n",
            "Predicted: FAKE\n",
            "Test Image: /content/drive/MyDrive/new_dataset/test/label1_img0130 (1).png\n",
            "Predicted: FAKE\n",
            "Test Image: /content/drive/MyDrive/new_dataset/test/label1_img0136 (1).png\n",
            "Predicted: FAKE\n",
            "Test Image: /content/drive/MyDrive/new_dataset/test/label1_img0134 (1).png\n",
            "Predicted: FAKE\n",
            "Test Image: /content/drive/MyDrive/new_dataset/test/label1_img0139 (1).png\n",
            "Predicted: FAKE\n",
            "Test Image: /content/drive/MyDrive/new_dataset/test/label1_img0138 (1).png\n",
            "Predicted: FAKE\n",
            "Test Image: /content/drive/MyDrive/new_dataset/test/label1_img0132 (1).png\n",
            "Predicted: FAKE\n",
            "Test Image: /content/drive/MyDrive/new_dataset/test/label1_img0140 (1).png\n",
            "Predicted: FAKE\n",
            "Test Image: /content/drive/MyDrive/new_dataset/test/label1_img0137 (1).png\n",
            "Predicted: FAKE\n",
            "Test Image: /content/drive/MyDrive/new_dataset/test/label1_img0135 (1).png\n",
            "Predicted: FAKE\n",
            "Test Image: /content/drive/MyDrive/new_dataset/test/label1_img0131 (1).png\n",
            "Predicted: FAKE\n",
            "Test Image: /content/drive/MyDrive/new_dataset/test/label1_img0139.png\n",
            "Predicted: FAKE\n",
            "Test Image: /content/drive/MyDrive/new_dataset/test/label1_img0130.png\n",
            "Predicted: FAKE\n",
            "Test Image: /content/drive/MyDrive/new_dataset/test/label1_img0134.png\n",
            "Predicted: FAKE\n",
            "Test Image: /content/drive/MyDrive/new_dataset/test/label1_img0136.png\n",
            "Predicted: FAKE\n",
            "Test Image: /content/drive/MyDrive/new_dataset/test/label1_img0135.png\n",
            "Predicted: FAKE\n",
            "Test Image: /content/drive/MyDrive/new_dataset/test/label1_img0131.png\n",
            "Predicted: FAKE\n",
            "Test Image: /content/drive/MyDrive/new_dataset/test/label1_img0129.png\n",
            "Predicted: FAKE\n",
            "Test Image: /content/drive/MyDrive/new_dataset/test/label1_img0132.png\n",
            "Predicted: FAKE\n",
            "Test Image: /content/drive/MyDrive/new_dataset/test/label1_img0137.png\n",
            "Predicted: FAKE\n",
            "Test Image: /content/drive/MyDrive/new_dataset/test/label1_img0138.png\n",
            "Predicted: FAKE\n",
            "Test Image: /content/drive/MyDrive/new_dataset/test/label1_img0133.png\n",
            "Predicted: FAKE\n",
            "Test Image: /content/drive/MyDrive/new_dataset/test/label1_img0139 (10).png\n",
            "Predicted: FAKE\n",
            "Test Image: /content/drive/MyDrive/new_dataset/test/label1_img0129 (10).png\n",
            "Predicted: FAKE\n",
            "Test Image: /content/drive/MyDrive/new_dataset/test/label1_img0135 (10).png\n",
            "Predicted: FAKE\n",
            "Test Image: /content/drive/MyDrive/new_dataset/test/label1_img0133 (10).png\n",
            "Predicted: FAKE\n",
            "Test Image: /content/drive/MyDrive/new_dataset/test/label1_img0130 (10).png\n",
            "Predicted: FAKE\n",
            "Test Image: /content/drive/MyDrive/new_dataset/test/label1_img0136 (10).png\n",
            "Predicted: FAKE\n",
            "Test Image: /content/drive/MyDrive/new_dataset/test/label1_img0134 (10).png\n",
            "Predicted: FAKE\n",
            "Test Image: /content/drive/MyDrive/new_dataset/test/label1_img0131 (10).png\n",
            "Predicted: FAKE\n",
            "Test Image: /content/drive/MyDrive/new_dataset/test/label1_img0137 (10).png\n",
            "Predicted: FAKE\n",
            "Test Image: /content/drive/MyDrive/new_dataset/test/label1_img0132 (10).png\n",
            "Predicted: FAKE\n",
            "Test Image: /content/drive/MyDrive/new_dataset/test/label1_img0138 (10).png\n",
            "Predicted: FAKE\n",
            "Test Image: /content/drive/MyDrive/new_dataset/test/label1_img0140 (10).png\n",
            "Predicted: FAKE\n",
            "Test Image: /content/drive/MyDrive/new_dataset/test/label1_img0139 (9).png\n",
            "Predicted: FAKE\n",
            "Test Image: /content/drive/MyDrive/new_dataset/test/label1_img0130 (8).png\n",
            "Predicted: FAKE\n",
            "Test Image: /content/drive/MyDrive/new_dataset/test/label1_img0135 (8).png\n",
            "Predicted: FAKE\n",
            "Test Image: /content/drive/MyDrive/new_dataset/test/label1_img0129 (7).png\n",
            "Predicted: FAKE\n",
            "Test Image: /content/drive/MyDrive/new_dataset/test/label1_img0136 (7).png\n",
            "Predicted: FAKE\n",
            "Test Image: /content/drive/MyDrive/new_dataset/test/label1_img0138 (7).png\n",
            "Predicted: FAKE\n",
            "TP: 100\n",
            "FP: 0\n",
            "TN: 100\n",
            "FN: 0\n"
          ]
        }
      ],
      "source": [
        "'''\n",
        "class ConvBlock(nn.Module):\n",
        "    def __init__(self, in_ch, out_ch):\n",
        "        super().__init__()\n",
        "        self.block = nn.Sequential(\n",
        "            nn.Conv2d(in_ch, out_ch, 3, padding=1),\n",
        "            nn.BatchNorm2d(out_ch),\n",
        "            nn.ReLU(inplace=True),\n",
        "            nn.MaxPool2d(2)\n",
        "        )\n",
        "    def forward(self, x):\n",
        "        return self.block(x)\n",
        "\n",
        "class SmallCNN64(nn.Module):\n",
        "    def __init__(self, num_classes):\n",
        "        super().__init__()\n",
        "        self.features = nn.Sequential(\n",
        "            ConvBlock(1, 32),\n",
        "            ConvBlock(32, 64),\n",
        "            ConvBlock(64, 128),\n",
        "            ConvBlock(128, 256),\n",
        "        )\n",
        "        self.classifier = nn.Sequential(\n",
        "            nn.Flatten(),\n",
        "            nn.Linear(256 * (IMG_SIZE // 16) * (IMG_SIZE // 16), 512),\n",
        "            nn.ReLU(),\n",
        "            nn.Dropout(0.5),\n",
        "            nn.Linear(512, num_classes)\n",
        "        )\n",
        "\n",
        "    def forward(self, x):\n",
        "        x = self.features(x)\n",
        "        return self.classifier(x)\n",
        "'''\n",
        "\n",
        "class ConvBlock(nn.Module):\n",
        "    def __init__(self, in_ch, out_ch, dropout=0.3):\n",
        "        super().__init__()\n",
        "        self.block = nn.Sequential(\n",
        "            nn.Conv2d(in_ch, out_ch, 3, padding=1),\n",
        "            nn.BatchNorm2d(out_ch),\n",
        "            nn.SiLU(inplace=True),\n",
        "            nn.Conv2d(out_ch, out_ch, 3, padding=1),\n",
        "            nn.BatchNorm2d(out_ch),\n",
        "            nn.SiLU(inplace=True),\n",
        "            nn.Dropout2d(dropout),\n",
        "            nn.MaxPool2d(2)\n",
        "        )\n",
        "\n",
        "    def forward(self, x):\n",
        "        return self.block(x)\n",
        "\n",
        "class SmallCNN64(nn.Module):\n",
        "    def __init__(self, num_classes):\n",
        "        super().__init__()\n",
        "        self.features = nn.Sequential(\n",
        "            ConvBlock(1, 32),\n",
        "            ConvBlock(32, 64),\n",
        "            ConvBlock(64, 128),\n",
        "            ConvBlock(128, 256),\n",
        "        )\n",
        "        self.classifier = nn.Sequential(\n",
        "            nn.AdaptiveAvgPool2d((1,1)),   # GAP\n",
        "            nn.Flatten(),\n",
        "            nn.Linear(256, 512),\n",
        "            nn.SiLU(),\n",
        "            nn.Dropout(0.5),\n",
        "            nn.Linear(512, num_classes)\n",
        "        )\n",
        "\n",
        "    def forward(self, x):\n",
        "        x = self.features(x)\n",
        "        return self.classifier(x)\n",
        "\n",
        "\n",
        "device = torch.device(\"cuda\" if torch.cuda.is_available() else \"cpu\")\n",
        "model = SmallCNN64(num_classes=len(class_names)).to(device)\n",
        "\n",
        "\n",
        "criterion = nn.CrossEntropyLoss()\n",
        "optimizer = optim.Adam(model.parameters(), lr=LR)\n",
        "scaler = torch.amp.GradScaler(\"cuda\", enabled=torch.cuda.is_available())\n",
        "\n",
        "\n",
        "def train_model(model, train_loader, val_loader, epochs=EPOCHS):\n",
        "    train_losses, val_losses, val_accs = [], [], []\n",
        "\n",
        "    for epoch in range(epochs):\n",
        "        model.train()\n",
        "        running_loss = 0.0\n",
        "\n",
        "        for images, labels in tqdm(train_loader, desc=f\"Epoch {epoch+1}/{epochs}\"):\n",
        "            images, labels = images.to(device), labels.to(device)\n",
        "\n",
        "            optimizer.zero_grad()\n",
        "\n",
        "            with torch.amp.autocast(\"cuda\", enabled=torch.cuda.is_available()):\n",
        "                outputs = model(images)\n",
        "                loss = criterion(outputs, labels)\n",
        "\n",
        "            scaler.scale(loss).backward()\n",
        "            scaler.step(optimizer)\n",
        "            scaler.update()\n",
        "\n",
        "            running_loss += loss.item()\n",
        "\n",
        "        avg_train_loss = running_loss / len(train_loader)\n",
        "        train_losses.append(avg_train_loss)\n",
        "\n",
        "        # Validation\n",
        "        model.eval()\n",
        "        correct, total, val_loss = 0, 0, 0.0\n",
        "        with torch.no_grad():\n",
        "            for images, labels in val_loader:\n",
        "                images, labels = images.to(device), labels.to(device)\n",
        "                outputs = model(images)\n",
        "                loss = criterion(outputs, labels)\n",
        "                val_loss += loss.item()\n",
        "                _, predicted = outputs.max(1)\n",
        "                total += labels.size(0)\n",
        "                correct += predicted.eq(labels).sum().item()\n",
        "\n",
        "        avg_val_loss = val_loss / len(val_loader)\n",
        "        val_losses.append(avg_val_loss)\n",
        "        val_acc = 100 * correct / total\n",
        "        val_accs.append(val_acc)\n",
        "\n",
        "        print(f\"Epoch {epoch+1}: Train Loss={avg_train_loss:.4f}, \"\n",
        "              f\"Val Loss={avg_val_loss:.4f}, Val Acc={val_acc:.2f}%\")\n",
        "\n",
        "    return train_losses, val_losses, val_accs\n",
        "\n",
        "\n",
        "import matplotlib.pyplot as plt\n",
        "\n",
        "def plot_training(train_losses, val_losses, val_accs):\n",
        "    epochs = range(1, len(train_losses) + 1)\n",
        "\n",
        "    plt.figure(figsize=(14,5))\n",
        "\n",
        "    # Plot Loss\n",
        "    plt.subplot(1,2,1)\n",
        "    plt.plot(epochs, train_losses, 'b-', label=\"Training Loss\")\n",
        "    plt.plot(epochs, val_losses, 'r-', label=\"Validation Loss\")\n",
        "    plt.xlabel(\"Epochs\")\n",
        "    plt.ylabel(\"Loss\")\n",
        "    plt.title(\"Training vs Validation Loss\")\n",
        "    plt.legend()\n",
        "    plt.grid(True)\n",
        "\n",
        "    # Plot Accuracy\n",
        "    plt.subplot(1,2,2)\n",
        "    plt.plot(epochs, val_accs, 'g-', label=\"Validation Accuracy\")\n",
        "    plt.xlabel(\"Epochs\")\n",
        "    plt.ylabel(\"Accuracy (%)\")\n",
        "    plt.title(\"Validation Accuracy\")\n",
        "    plt.legend()\n",
        "    plt.grid(True)\n",
        "\n",
        "    plt.show()\n",
        "\n",
        "# Call it after training\n",
        "\n",
        "\n",
        "\n",
        "train_losses, val_losses, val_accs = train_model(model, train_loader, val_loader, epochs=EPOCHS)\n",
        "plot_training(train_losses, val_losses, val_accs)\n",
        "\n",
        "def predict_image(image_path, model, class_names):\n",
        "    model.eval()\n",
        "    img = Image.open(image_path).convert(\"L\")\n",
        "    transform = val_transform\n",
        "    img_t = transform(img).unsqueeze(0).to(device)\n",
        "\n",
        "    with torch.no_grad():\n",
        "        outputs = model(img_t)\n",
        "        _, predicted = outputs.max(1)\n",
        "\n",
        "    return class_names[predicted.item()]\n",
        "\n",
        "TP = 0\n",
        "FP = 0\n",
        "TN = 0\n",
        "FN = 0\n",
        "\n",
        "for filename in os.listdir(test_dir):\n",
        "    test_img = os.path.join(test_dir, filename)\n",
        "    print(\"Test Image:\", test_img)\n",
        "    predicted = predict_image(test_img, model, class_names)\n",
        "    print(\"Predicted:\", predicted)\n",
        "    if \"label\" in filename:\n",
        "      if predicted == \"FAKE\":\n",
        "        TN += 1\n",
        "      else:\n",
        "        FP += 1\n",
        "    if \"P\" in filename:\n",
        "      if predicted == \"REAL\":\n",
        "        TP += 1\n",
        "      else:\n",
        "        FN += 1\n",
        "'''\n",
        "count = 1\n",
        "for filename in os.listdir(test_dir):\n",
        "    test_img = os.path.join(test_dir, filename)\n",
        "    print(\"Test Image:\", test_img)\n",
        "    predicted = predict_image(test_img, model, class_names)\n",
        "    print(\"Predicted:\", predicted)\n",
        "    if count < 51:\n",
        "      if predicted == \"NORMAL\":\n",
        "        TN += 1\n",
        "      else:\n",
        "        FP += 1\n",
        "    if count >= 51:\n",
        "      if predicted == \"PNEUMONIA\":\n",
        "        TP += 1\n",
        "      else:\n",
        "        FN += 1\n",
        "    count += 1\n",
        "'''\n",
        "print(\"TP:\", TP)\n",
        "print(\"FP:\", FP)\n",
        "print(\"TN:\", TN)\n",
        "print(\"FN:\", FN)\n",
        "\n",
        "\n",
        "\n"
      ]
    },
    {
      "cell_type": "code",
      "execution_count": 6,
      "metadata": {
        "colab": {
          "base_uri": "https://localhost:8080/",
          "height": 468
        },
        "id": "5SpFc2QlBa9n",
        "outputId": "96ef942b-0234-475f-e0fe-35fcc7e3684e"
      },
      "outputs": [
        {
          "output_type": "display_data",
          "data": {
            "text/plain": [
              "<Figure size 600x500 with 2 Axes>"
            ],
            "image/png": "[encoded data removed]"
          },
          "metadata": {}
        }
      ],
      "source": [
        "import matplotlib.pyplot as plt\n",
        "import seaborn as sns\n",
        "import numpy as np\n",
        "\n",
        "conf_matrix = np.array([[TN, FP],\n",
        "                        [FN, TP]])\n",
        "\n",
        "# Labels\n",
        "labels = [\"Negative\", \"Positive\"]\n",
        "classes = [\"NORMAL\",\"PNEUMONIA\"]\n",
        "# Plot with seaborn\n",
        "plt.figure(figsize=(6,5))\n",
        "sns.heatmap(conf_matrix, annot=True, fmt=\"d\", cmap=\"Blues\",\n",
        "            xticklabels=classes, yticklabels=labels)\n",
        "\n",
        "\n",
        "plt.title(\"Confusion Matrix\")\n",
        "plt.show()\n",
        "torch.save(model.state_dict(), \"cnn_model.pth\")\n"
      ]
    },
    {
      "cell_type": "code",
      "execution_count": 7,
      "metadata": {
        "colab": {
          "base_uri": "https://localhost:8080/"
        },
        "id": "YIGsOWdNBzrf",
        "outputId": "cce63908-4ce5-4c3e-b09f-9954f037db1a"
      },
      "outputs": [
        {
          "output_type": "stream",
          "name": "stdout",
          "text": [
            "Accuracy: 1.0\n",
            "Precision: 1.0\n",
            "Recall: 1.0\n",
            "Specificity: 1.0\n",
            "F1 Score: 1.0\n",
            "Balanced Accuracy: 1.0\n",
            "MCC: 1.0\n"
          ]
        }
      ],
      "source": [
        "import math\n",
        "\n",
        "accuracy  = (TP + TN) / (TP + TN + FP + FN)\n",
        "precision = TP / (TP + FP) if (TP + FP) else 0\n",
        "recall    = TP / (TP + FN) if (TP + FN) else 0\n",
        "specificity = TN / (TN + FP) if (TN + FP) else 0\n",
        "fpr       = FP / (FP + TN) if (FP + TN) else 0\n",
        "fnr       = FN / (FN + TP) if (FN + TP) else 0\n",
        "npv       = TN / (TN + FN) if (TN + FN) else 0\n",
        "f1        = 2 * precision * recall / (precision + recall) if (precision + recall) else 0\n",
        "balanced_accuracy = (recall + specificity) / 2\n",
        "mcc_num   = (TP*TN - FP*FN)\n",
        "mcc_den   = math.sqrt((TP+FP)*(TP+FN)*(TN+FP)*(TN+FN))\n",
        "mcc       = mcc_num / mcc_den if mcc_den else 0\n",
        "\n",
        "print(\"Accuracy:\", accuracy)\n",
        "print(\"Precision:\", precision)\n",
        "print(\"Recall:\", recall)\n",
        "print(\"Specificity:\", specificity)\n",
        "print(\"F1 Score:\", f1)\n",
        "print(\"Balanced Accuracy:\", balanced_accuracy)\n",
        "print(\"MCC:\", mcc)\n"
      ]
    },
    {
      "cell_type": "code",
      "execution_count": 8,
      "metadata": {
        "id": "uFtjXkiUWyUs",
        "colab": {
          "base_uri": "https://localhost:8080/",
          "height": 590
        },
        "outputId": "99c055e5-23c9-4f1d-9d27-7bb76e0aecf0"
      },
      "outputs": [
        {
          "output_type": "stream",
          "name": "stdout",
          "text": [
            "Colab notebook detected. To show errors in colab notebook, set debug=True in launch()\n",
            "* Running on public URL: https://14cca4398678ce7a72.gradio.live\n",
            "\n",
            "This share link expires in 1 week. For free permanent hosting and GPU upgrades, run `gradio deploy` from the terminal in the working directory to deploy to Hugging Face Spaces (https://huggingface.co/spaces)\n"
          ]
        },
        {
          "output_type": "display_data",
          "data": {
            "text/plain": [
              "<IPython.core.display.HTML object>"
            ],
            "text/html": [
              "<div><iframe src=\"https://14cca4398678ce7a72.gradio.live\" width=\"100%\" height=\"500\" allow=\"autoplay; camera; microphone; clipboard-read; clipboard-write;\" frameborder=\"0\" allowfullscreen></iframe></div>"
            ]
          },
          "metadata": {}
        },
        {
          "output_type": "execute_result",
          "data": {
            "text/plain": []
          },
          "metadata": {},
          "execution_count": 8
        }
      ],
      "source": [
        "import gradio as gr\n",
        "\n",
        "\n",
        "device = torch.device(\"cuda\" if torch.cuda.is_available() else \"cpu\")\n",
        "model = SmallCNN64(num_classes=len(class_names)).to(device)\n",
        "model.load_state_dict(torch.load(\"cnn_model.pth\", map_location=device))\n",
        "model.eval()\n",
        "\n",
        "# Transform cho inference (không dùng augmentation)\n",
        "transform = transforms.Compose([\n",
        "    transforms.Grayscale(num_output_channels=1),\n",
        "    transforms.Resize((IMG_SIZE, IMG_SIZE)),\n",
        "    transforms.ToTensor(),\n",
        "    transforms.Normalize([0.5], [0.5])\n",
        "])\n",
        "\n",
        "def classify_image(img):\n",
        "    img = img.convert(\"L\")   # giữ grayscale\n",
        "    img = transform(img).unsqueeze(0).to(device)\n",
        "    with torch.no_grad():\n",
        "        outputs = model(img)\n",
        "        _, predicted = outputs.max(1)   # lấy index class có giá trị cao nhất\n",
        "    return class_names[predicted.item()]\n",
        "\n",
        "interface = gr.Interface(\n",
        "    fn=classify_image,\n",
        "    inputs=gr.Image(type=\"pil\"),\n",
        "    outputs=\"label\",\n",
        "    title=\"Chest X-ray Classification\",\n",
        "    description=\"Upload an X-ray image to classify (REAL,FAKE)\"\n",
        ")\n",
        "\n",
        "interface.launch(share=True)\n",
        "\n"
      ]
    }
  ],
  "metadata": {
    "accelerator": "GPU",
    "colab": {
      "gpuType": "L4",
      "provenance": [],
      "machine_shape": "hm"
    },
    "kaggle": {
      "accelerator": "none",
      "dataSources": [
        {
          "datasetId": 17810,
          "sourceId": 23812,
          "sourceType": "datasetVersion"
        }
      ],
      "dockerImageVersionId": 31089,
      "isGpuEnabled": false,
      "isInternetEnabled": false,
      "language": "python",
      "sourceType": "notebook"
    },
    "kernelspec": {
      "display_name": "Python 3",
      "name": "python3"
    },
    "language_info": {
      "codemirror_mode": {
        "name": "ipython",
        "version": 3
      },
      "file_extension": ".py",
      "mimetype": "text/x-python",
      "name": "python",
      "nbconvert_exporter": "python",
      "pygments_lexer": "ipython3",
      "version": "3.11.13"
    }
  },
  "nbformat": 4,
  "nbformat_minor": 0
}